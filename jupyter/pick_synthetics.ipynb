{
 "cells": [
  {
   "cell_type": "markdown",
   "metadata": {},
   "source": [
    "## Import modules"
   ]
  },
  {
   "cell_type": "code",
   "execution_count": null,
   "metadata": {},
   "outputs": [],
   "source": [
    "%matplotlib ipympl\n",
    "\n",
    "import matplotlib.pyplot as plt\n",
    "import numpy as np\n",
    "import obspy\n",
    "import pandas as pd"
   ]
  },
  {
   "cell_type": "markdown",
   "metadata": {},
   "source": [
    "## Define the picking function with option to plot waveforms with picks"
   ]
  },
  {
   "cell_type": "code",
   "execution_count": null,
   "metadata": {},
   "outputs": [],
   "source": [
    "def pick(wf_file, md_file, recordlength=1.5, plot=False):\n",
    "    df_sta = pd.read_csv(md_file, delim_whitespace=True, header=None, names=['sta', 'net', 'x', '_y', '?', '??'])\n",
    "    df_sta['y'] = 3e3 - df_sta['_y']\n",
    "    \n",
    "    df = pd.DataFrame()\n",
    "    st = obspy.read(wf_file)\n",
    "    for idx in range(len(st)):\n",
    "        tr = st[idx]\n",
    "        tr.stats.network  = 'AA'\n",
    "        tr.stats.station  = df_sta.loc[idx, 'sta']\n",
    "        tr.stats.channel  = 'DPZ'\n",
    "        tr.stats.distance = df_sta.loc[idx, 'x']\n",
    "        tr.stats.t0_first = np.nonzero(tr.data > np.median(np.abs(tr)) * 5)[0][0] * tr.stats.delta\n",
    "        tr.stats.t0_max   = np.argmax(np.abs(tr)) * tr.stats.delta\n",
    "        df = df.append(\n",
    "            pd.DataFrame(\n",
    "                [[tr.stats.station, tr.stats.t0_first, tr.stats.t0_max]],\n",
    "                columns=['sta', 't0_first', 't0_max']\n",
    "            ),\n",
    "            ignore_index=True\n",
    "        )\n",
    "\n",
    "    if plot is True:\n",
    "        fig = st.plot(\n",
    "            type='section', \n",
    "            time_down=True,\n",
    "            recordlength=recordlength,\n",
    "            fillcolors=('k', 'w'), \n",
    "            handle=True\n",
    "        )\n",
    "\n",
    "        ax = fig.axes[0]\n",
    "        xmin, xmax = ax.get_xlim()\n",
    "        delta_x    = xmax - xmin\n",
    "\n",
    "        pick_marker_half_width = 1/(2.5*len(st))\n",
    "        for tr in st:\n",
    "            ax.axhline(\n",
    "                y=tr.stats.t0_first,\n",
    "                xmin=(tr.stats.distance * 1e-3 - xmin)/delta_x-pick_marker_half_width,\n",
    "                xmax=(tr.stats.distance * 1e-3 - xmin)/delta_x+pick_marker_half_width,\n",
    "                color='r'\n",
    "            )\n",
    "            ax.axhline(\n",
    "                y=tr.stats.t0_max,\n",
    "                xmin=(tr.stats.distance * 1e-3 - xmin)/delta_x-pick_marker_half_width,\n",
    "                xmax=(tr.stats.distance * 1e-3 - xmin)/delta_x+pick_marker_half_width,\n",
    "                color='b'\n",
    "            )\n",
    "    return (df)"
   ]
  },
  {
   "cell_type": "markdown",
   "metadata": {},
   "source": [
    "## Pick times are return as a pandas.DataFrame"
   ]
  },
  {
   "cell_type": "code",
   "execution_count": null,
   "metadata": {},
   "outputs": [],
   "source": [
    "pick('../data/00012.su', '../data/STATIONS')"
   ]
  },
  {
   "cell_type": "markdown",
   "metadata": {},
   "source": [
    "## Plot waveforms with picks"
   ]
  },
  {
   "cell_type": "code",
   "execution_count": null,
   "metadata": {},
   "outputs": [],
   "source": [
    "df = pick('../data/00023.su', '../data/STATIONS', plot=True)"
   ]
  },
  {
   "cell_type": "code",
   "execution_count": null,
   "metadata": {},
   "outputs": [],
   "source": []
  }
 ],
 "metadata": {
  "kernelspec": {
   "display_name": "Python [conda env:py37]",
   "language": "python",
   "name": "conda-env-py37-py"
  },
  "language_info": {
   "codemirror_mode": {
    "name": "ipython",
    "version": 3
   },
   "file_extension": ".py",
   "mimetype": "text/x-python",
   "name": "python",
   "nbconvert_exporter": "python",
   "pygments_lexer": "ipython3",
   "version": "3.7.1"
  }
 },
 "nbformat": 4,
 "nbformat_minor": 2
}
