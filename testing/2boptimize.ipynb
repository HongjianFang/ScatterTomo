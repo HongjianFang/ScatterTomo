{
 "cells": [
  {
   "cell_type": "code",
   "execution_count": null,
   "metadata": {},
   "outputs": [],
   "source": [
    "#%matplotlib ipympl\n",
    "import pykonal\n",
    "import matplotlib\n",
    "from matplotlib import pyplot as plt\n",
    "import numpy as np \n",
    "import pandas as pd\n",
    "\n",
    "## Load data\n",
    "\n",
    "srcs = pd.read_csv('data/sources.dat',delim_whitespace=True,names=['x','z'])\n",
    "rcs  = pd.read_csv('data/STATIONS',delim_whitespace=True,names=['sname','net','x','z','cc1','cc2'])\n",
    "\n",
    "# I am using the y-axis as the vertical axis; it is positive downwards.\n",
    "srcs['y'] = 3e3 - srcs['z']\n",
    "# Set the z-coordinate = 0 everywhere to keep everything in the xy-plane\n",
    "srcs['z'] = 0\n",
    "# Again for receivers...\n",
    "rcs['y']  = 3e3 - rcs['z']\n",
    "rcs['z']  = 0\n",
    "\n",
    "## Calculate travel times\n",
    "\n",
    "# The source and receiver locations appear to be in units of [m], so I will\n",
    "# use units of [m] for distance and [m/s] for velocity to stay consistent.\n",
    "solver = pykonal.EikonalSolver()\n",
    "solver.vgrid.min_coords     = 0, 0, 0\n",
    "solver.vgrid.node_intervals = 100, 100, 100 # Node intervals in [m]\n",
    "solver.vgrid.npts           = 91, 31, 1\n",
    "solver.pgrid.min_coords     = solver.vgrid.min_coords\n",
    "solver.pgrid.node_intervals = solver.vgrid.node_intervals\n",
    "solver.pgrid.npts           = solver.vgrid.npts\n",
    "solver.vv = np.ones(solver.vgrid.npts)  * 4e3# Velocity in [m/s]\n",
    "\n",
    "dobs = np.zeros((len(srcs), len(rcs)))\n",
    "\n",
    "for isrc, src_row in srcs.iterrows():\n",
    "    src = src_row[['x', 'y', 'z']]\n",
    "    solver.clear_sources()\n",
    "    print(src)\n",
    "    solver.add_source(src)\n",
    "    solver.solve()\n",
    "    ui = pykonal.LinearInterpolator3D(solver.pgrid, solver.uu)\n",
    "    for irc, rc_row in rcs.iterrows():\n",
    "        rc  = rc_row[['x', 'y', 'z']]\n",
    "#         print (rc)\n",
    "# Ray tracing is very slow right now\n",
    "        ray = solver.trace_ray(rc, tolerance=0.1)\n",
    "        dobs[isrc,irc] = ui(rc)\n",
    "\n",
    "## Plotting\n",
    "\n",
    "def plot(solver):\n",
    "    fig = plt.figure()\n",
    "    ax = fig.add_subplot(1, 1, 1, aspect=1)\n",
    "    ax.pcolormesh(\n",
    "        solver.pgrid[:, :, 0, 0], \n",
    "        solver.pgrid[:, :, 0, 1], \n",
    "        solver.uu[:, :, 0], \n",
    "        cmap=plt.get_cmap('jet_r')\n",
    "    )\n",
    "    ax.set_xlabel('X')\n",
    "    ax.set_ylabel('Y')\n",
    "    ax.invert_yaxis()\n",
    "\n",
    "plot(solver)"
   ]
  },
  {
   "cell_type": "code",
   "execution_count": null,
   "metadata": {},
   "outputs": [],
   "source": [
    "solver.trace_ray(rc,tolerance=0.1)"
   ]
  },
  {
   "cell_type": "code",
   "execution_count": null,
   "metadata": {},
   "outputs": [],
   "source": []
  }
 ],
 "metadata": {
  "kernelspec": {
   "display_name": "Python [conda env:scatter]",
   "language": "python",
   "name": "conda-env-scatter-py"
  },
  "language_info": {
   "codemirror_mode": {
    "name": "ipython",
    "version": 3
   },
   "file_extension": ".py",
   "mimetype": "text/x-python",
   "name": "python",
   "nbconvert_exporter": "python",
   "pygments_lexer": "ipython3",
   "version": "3.7.3"
  }
 },
 "nbformat": 4,
 "nbformat_minor": 2
}
